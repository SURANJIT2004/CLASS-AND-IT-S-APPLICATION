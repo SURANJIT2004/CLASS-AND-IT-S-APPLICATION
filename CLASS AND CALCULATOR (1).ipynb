{
 "cells": [
  {
   "cell_type": "markdown",
   "id": "47de1fd5-5c0d-4d8e-b75f-61a538d5f333",
   "metadata": {},
   "source": [
    "# CLASS :"
   ]
  },
  {
   "cell_type": "markdown",
   "id": "1dd3ac6b-4365-4ccc-a55e-7ac85647a96b",
   "metadata": {},
   "source": [
    "### Class is a logical framework consisting of similar type of collection of object.\n",
    "A class provide frames for attribute and behaviour.\n",
    "\n",
    "attributes - Variable\n",
    "\n",
    "behaviour - Method\n",
    "\n",
    "physical implementation of class is called object.\n",
    "\n",
    "Object contain the value of the two frame. \n",
    "\n",
    "It uses the value to show variables."
   ]
  },
  {
   "cell_type": "markdown",
   "id": "46d58b30-21ae-4f4c-be8b-a6eaf463713c",
   "metadata": {},
   "source": [
    "#### "
   ]
  },
  {
   "cell_type": "markdown",
   "id": "4300beda-3133-4646-9c02-ca948d9468fa",
   "metadata": {},
   "source": [
    "###### 1st Method :"
   ]
  },
  {
   "cell_type": "code",
   "execution_count": 18,
   "id": "3e575ba7-88b4-4d54-95be-77ccee75f743",
   "metadata": {},
   "outputs": [
    {
     "name": "stdout",
     "output_type": "stream",
     "text": [
      "Student name is:  Suranjit Shaw\n",
      "Student Roll NO. is:  2241019428\n",
      "Student age is:  20\n"
     ]
    }
   ],
   "source": [
    "class Student:\n",
    "    name=''\n",
    "    roll_no=''\n",
    "    age=20\n",
    "obj=Student()\n",
    "obj.name='Suranjit Shaw'\n",
    "obj.roll_no='2241019428'\n",
    "obj.age\n",
    "print(\"Student name is: \" , obj.name )\n",
    "print(\"Student Roll NO. is: \" , obj.roll_no)\n",
    "print(\"Student age is: \" , obj.age)"
   ]
  },
  {
   "cell_type": "markdown",
   "id": "c69be3cb-5ea8-4283-8806-8f46367fd0e6",
   "metadata": {},
   "source": [
    "### "
   ]
  },
  {
   "cell_type": "markdown",
   "id": "6869be35-f7c2-4935-b130-8b6c3ab44b9a",
   "metadata": {},
   "source": [
    "###### 2nd Method :"
   ]
  },
  {
   "cell_type": "code",
   "execution_count": 20,
   "id": "924f16e4-161c-47f7-bd7a-9a611fa8b9c6",
   "metadata": {},
   "outputs": [
    {
     "name": "stdout",
     "output_type": "stream",
     "text": [
      "Person 1:\n",
      "Name: Suranjit Shaw\n",
      "Country: INDIA\n",
      "Date of Birth: 2004-06-02\n",
      "Age: 19\n",
      "\n",
      "Person 2:\n",
      "Name: Satyanistha Das\n",
      "Country: INDIA\n",
      "Date of Birth: 2005-04-05\n",
      "Age: 19\n",
      "\n",
      "Person 3:\n",
      "Name: Nihar Dash\n",
      "Country: INDIA\n",
      "Date of Birth: 2003-07-05\n",
      "Age: 20\n"
     ]
    }
   ],
   "source": [
    "# 2nd METHOD:\n",
    "\n",
    "from datetime import date\n",
    "\n",
    "class Person:\n",
    "    def __init__(self, name, country, date_of_birth):\n",
    "        self.name = name\n",
    "        self.country = country\n",
    "        self.date_of_birth = date_of_birth\n",
    "    \n",
    "    def calculate_age(self):\n",
    "        today = date.today()\n",
    "        age = today.year - self.date_of_birth.year\n",
    "        if today < date(today.year, self.date_of_birth.month, self.date_of_birth.day):\n",
    "            age -= 1\n",
    "        return age\n",
    "\n",
    "\n",
    "person1 = Person(\"Suranjit Shaw\", \"INDIA\", date(2004, 6,2 ))\n",
    "person2 = Person(\"Satyanistha Das\", \"INDIA\", date(2005, 4, 5))\n",
    "person3 = Person(\"Nihar Dash\", \"INDIA\", date(2003, 7, 5))\n",
    "\n",
    "print(\"Person 1:\")\n",
    "print(\"Name:\", person1.name)\n",
    "print(\"Country:\", person1.country)\n",
    "print(\"Date of Birth:\", person1.date_of_birth)\n",
    "print(\"Age:\", person1.calculate_age())\n",
    "\n",
    "print()\n",
    "print(\"Person 2:\")\n",
    "print(\"Name:\", person2.name)\n",
    "print(\"Country:\", person2.country)\n",
    "print(\"Date of Birth:\" , person2.date_of_birth)\n",
    "print(\"Age:\", person2.calculate_age())\n",
    "\n",
    "print()\n",
    "print(\"Person 3:\")\n",
    "print(\"Name:\", person3.name)\n",
    "print(\"Country:\", person3.country)\n",
    "print(\"Date of Birth:\", person3.date_of_birth)\n",
    "print(\"Age:\", person3.calculate_age())"
   ]
  },
  {
   "cell_type": "markdown",
   "id": "740b7b25-c1ce-4f2b-b716-f6ef153a00eb",
   "metadata": {},
   "source": [
    "##### "
   ]
  },
  {
   "cell_type": "markdown",
   "id": "bcbe7829-8bfe-49d7-8867-fe297be66034",
   "metadata": {},
   "source": [
    "# CALCULATOR : "
   ]
  },
  {
   "cell_type": "code",
   "execution_count": 32,
   "id": "f3b91a7f-ebf3-4fb0-a383-8216754f8a73",
   "metadata": {},
   "outputs": [
    {
     "name": "stdin",
     "output_type": "stream",
     "text": [
      "Enter X:  10\n",
      "enter y:  5\n"
     ]
    },
    {
     "name": "stdout",
     "output_type": "stream",
     "text": [
      "Sum is( 10 + 5 )= 15\n",
      "Difference is( 10 - 5 )= 5\n",
      "product is( 10 * 5 )= 50\n",
      "Quotient is( 10 / 5 )= 2.0\n",
      "Remainder is( 10 % 5 )= 0\n"
     ]
    }
   ],
   "source": [
    "class Calculator:\n",
    "    def add(self, x, y):\n",
    "        return x + y\n",
    "\n",
    "    def subtract(self, x, y):\n",
    "        return x - y\n",
    "\n",
    "    def multiply(self, x, y):\n",
    "        return x * y\n",
    "\n",
    "    def quotient(self, x, y):\n",
    "        if y != 0:\n",
    "            return x / y\n",
    "        else:\n",
    "            return (\"Cannot divide by zero.\")\n",
    "    def remainder(self, x, y):\n",
    "        if y != 0:\n",
    "            return x % y\n",
    "        else:\n",
    "            return (\"Cannot divide by zero.\")\n",
    "        \n",
    "\n",
    "calculator = Calculator()\n",
    "\n",
    "x=int(input(\"Enter X: \"))\n",
    "y=int(input(\"enter y: \"))\n",
    "\n",
    "result = calculator.add(x, y)\n",
    "print(\"Sum is(\",x ,\"+\", y ,\")=\" , result)\n",
    "\n",
    "result = calculator.subtract(x, y)\n",
    "print(\"Difference is(\" ,x ,\"-\", y ,\")=\" , result)\n",
    "\n",
    "result = calculator.multiply(x, y)\n",
    "print(\"product is(\",x ,\"*\", y ,\")=\", result)\n",
    "\n",
    "result = calculator.quotient(x, y)\n",
    "print(\"Quotient is(\", x ,\"/\", y ,\")=\", result)\n",
    "\n",
    "\n",
    "result = calculator.remainder(x, y)\n",
    "print(\"Remainder is(\", x ,\"%\", y ,\")=\", result)"
   ]
  }
 ],
 "metadata": {
  "kernelspec": {
   "display_name": "Python 3 (ipykernel)",
   "language": "python",
   "name": "python3"
  },
  "language_info": {
   "codemirror_mode": {
    "name": "ipython",
    "version": 3
   },
   "file_extension": ".py",
   "mimetype": "text/x-python",
   "name": "python",
   "nbconvert_exporter": "python",
   "pygments_lexer": "ipython3",
   "version": "3.11.5"
  }
 },
 "nbformat": 4,
 "nbformat_minor": 5
}
